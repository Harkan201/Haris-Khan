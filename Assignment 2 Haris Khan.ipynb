{
  "metadata": {
    "kernelspec": {
      "name": "python",
      "display_name": "Python (Pyodide)",
      "language": "python"
    },
    "language_info": {
      "codemirror_mode": {
        "name": "python",
        "version": 3
      },
      "file_extension": ".py",
      "mimetype": "text/x-python",
      "name": "python",
      "nbconvert_exporter": "python",
      "pygments_lexer": "ipython3",
      "version": "3.8"
    }
  },
  "nbformat_minor": 4,
  "nbformat": 4,
  "cells": [
    {
      "cell_type": "code",
      "source": "#necessary imports\n\nimport numpy as np\nimport matplotlib.pyplot as plt\n\n#find the probability of winning for nxn matrix. Will do n= 2 and n = 3\n\ndef Winprob(dim, opener):\n    move = int(dim**2/2)\n    if dim % 2 == 1:\n        if  opener == True: \n            matrix = np.array((1,)*move+(0,)*(move+1))\n        else:\n            matrix = np.array((1,)*(move+1)+(0,)*move)\n    else:\n        matrix = np.array((1,)*move+(0,)*move)\n    wins = 0\n    for i in range(10000):\n        np.random.shuffle(matrix)\n        det = np.linalg.det(np.reshape(matrix,(dim,dim))) \n        if det == 0:\n            wins+=1\n    return wins/10000",
      "metadata": {
        "trusted": true,
        "jupyter": {
          "source_hidden": true
        }
      },
      "outputs": [],
      "execution_count": 7
    },
    {
      "cell_type": "code",
      "source": "#find random probability for a 2x2\nsum = 0\nfor i in range(20):\n    sum += Winprob(2, True)\nprint(sum/20)\n\n\n",
      "metadata": {
        "trusted": true,
        "jupyter": {
          "source_hidden": true
        }
      },
      "outputs": [
        {
          "name": "stdout",
          "text": "0.66744\n",
          "output_type": "stream"
        }
      ],
      "execution_count": 2
    },
    {
      "cell_type": "code",
      "source": "#random probability for a 3x3.\n\nsum = 0\nfor i in range(20):\n    sum += Winprob(3, True)\nprint(sum/20)\n#random probability for a 4x4\n\nsum = 0\nfor i in range(20):\n    sum += Winprob(3, True)\nprint(sum/20)",
      "metadata": {
        "trusted": true,
        "jupyter": {
          "source_hidden": true
        }
      },
      "outputs": [
        {
          "name": "stdout",
          "text": "0.715405\n0.7131000000000001\n",
          "output_type": "stream"
        }
      ],
      "execution_count": 3
    },
    {
      "cell_type": "code",
      "source": "import numpy as np\n\nprint (\"Here I am generating 2 different possible games for n=4 and n=6\")\n# -1 means empty cell for the start of game.\ndef generate_game(n):\n\n\n    \n    matrix = np.full((n, n), -1)\n\n    # Check for determinant of zero after making moves.\n    def checkdet(i, j):\n        # Start filling up matrix with my goes\n        answer = np.where(matrix == -1, 0, matrix)  \n        answer[i, j] = 0\n        return np.isclose(np.linalg.det(answer), 0)\n\n\n\n    \n    # Function to perform a move for me and friend.\n    def domove(friend, entry):\n        matrix[entry] = friend\n\n # generate the game\n    for move in range(n * n):\n        friend = move % 2\n        empty_entries = np.argwhere(matrix == -1)\n        if empty_entries.size > 0:\n            if friend == 1:\n                # friend places a 1.\n                random_cell = empty_entries[np.random.choice(empty_entries.shape[0])]\n                domove(1, random_cell)\n            else:\n                # For n >= 4, apply the mirror technique I explained.\n                # We cannot do n< 4 as explained in rubric.\n                if n >= 4:\n                    done = False\n                    for i in range(n):\n                        for j in range(n // 2):\n                            if matrix[i, j] == 1 and matrix[i, n - j - 1] == -1:\n                                domove(0, (i, n - j - 1))\n                                done = True\n                                break\n                    if done:\n                            break\n                    if not done:\n                        # If reflection cannot be done, do 0 somewhere else. Explained in rubric.\n                        for cell in empty_entries:\n                            if checkdet(*cell):\n                                domove(0, cell)\n                                break\n              \n\n    # Check singularity of matrix. \n    det = np.linalg.det(np.where(matrix == -1, 0, matrix)) if -1 not in matrix else None\n    return matrix, np.isclose(det, 0)\n\n# generate the game for n=4 and n=6\n\nresults_n4 = generate_game(4)\nresults_n6 = generate_game(6)\n\n\nprint(\"matrix n=4:\")\nprint(results_n4[0])\nprint(\"Determinant is zero:\", results_n4[1])\n\nprint(\"matrix n=6:\")\nprint(results_n6[0])\nprint(\"Determinant is zero:\", results_n6[1])\n\n\n\n   ",
      "metadata": {
        "trusted": true,
        "jupyter": {
          "source_hidden": true
        }
      },
      "outputs": [
        {
          "name": "stdout",
          "text": "Here I am generating 2 different possible games for n=4 and n=6\nmatrix n=4:\n[[0 0 0 0]\n [1 1 1 1]\n [1 1 1 1]\n [0 0 0 0]]\nDeterminant is zero: True\nmatrix n=6:\n[[0 0 0 0 0 0]\n [0 0 0 0 0 0]\n [1 1 1 1 1 1]\n [1 1 1 1 1 1]\n [0 0 0 0 0 0]\n [1 1 1 1 1 1]]\nDeterminant is zero: True\n",
          "output_type": "stream"
        }
      ],
      "execution_count": 4
    },
    {
      "cell_type": "code",
      "source": "print(\"test\")",
      "metadata": {
        "trusted": true,
        "jupyter": {
          "source_hidden": true
        }
      },
      "outputs": [
        {
          "name": "stdout",
          "text": "test\n",
          "output_type": "stream"
        }
      ],
      "execution_count": 6
    },
    {
      "cell_type": "code",
      "source": "",
      "metadata": {
        "trusted": true,
        "jupyter": {
          "source_hidden": true
        }
      },
      "outputs": [],
      "execution_count": null
    }
  ]
}