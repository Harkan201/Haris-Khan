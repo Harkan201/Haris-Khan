{
 "cells": [
  {
   "cell_type": "code",
   "execution_count": 10,
   "metadata": {},
   "outputs": [
    {
     "name": "stdout",
     "output_type": "stream",
     "text": [
      "[1, 5, 6, 1, 7, 8, 5, 3, 8, 1, 9, 0, 9, 9, 8, 7, 5, 2, 7, 9, 6, 5, 1, 6, 7, 3, 0, 3, 3, 6, 9, 5, 4, 9, 3, 2, 5, 7, 2, 9, 1, 0, 1, 1, 2, 3, 5, 8, 3, 1, 4, 5, 9, 4, 3, 7, 0, 7, 7, 4, 1, 5, 6, 1, 7, 8, 5, 3, 8, 1, 9, 0, 9, 9, 8, 7, 5, 2, 7, 9, 6, 5, 1, 6, 7, 3, 0, 3, 3, 6, 9, 5, 4, 9, 3, 2, 5, 7, 2, 9]\n"
     ]
    }
   ],
   "source": [
    "#program to calculate first 100 terms of bracelet given in question.\n",
    "\n",
    "def generate_sequence(length):\n",
    "    # Initial numbers in the sequence\n",
    "    sequence = [1, 5, 6, 1, 7, 8, 5, 3]\n",
    "\n",
    "    # Generate the sequence\n",
    "    for _ in range(length - len(sequence)):\n",
    "        next_number = (sequence[-1] + sequence[-2]) % 10\n",
    "        sequence.append(next_number)\n",
    "\n",
    "    return sequence\n",
    "\n",
    "# Generate and print the first 100 numbers in the sequence\n",
    "sequence_length = 100\n",
    "result_sequence = generate_sequence(sequence_length)\n",
    "print(result_sequence)\n",
    "\n"
   ]
  },
  {
   "cell_type": "code",
   "execution_count": 11,
   "metadata": {},
   "outputs": [
    {
     "name": "stdout",
     "output_type": "stream",
     "text": [
      "[1, 5, 6, 1, 7, 8, 5, 3, 8, 1, 9, 0, 9, 9, 8, 7, 5, 2, 7, 9, 6, 5, 1, 6, 7, 3, 0, 3, 3, 6, 9, 5, 4, 9, 3, 2, 5, 7, 2, 9, 1, 0, 1, 1, 2, 3, 5, 8, 3, 1, 4, 5, 9, 4, 3, 7, 0, 7, 7, 4, 1, 5, 6, 1, 7, 8, 5, 3, 8, 1, 9, 0, 9, 9, 8, 7, 5, 2, 7, 9, 6, 5, 1, 6, 7, 3, 0, 3, 3, 6, 9, 5, 4, 9, 3, 2, 5, 7, 2, 9, 1, 0, 1, 1, 2, 3, 5, 8, 3, 1, 4, 5, 9, 4, 3, 7, 0, 7, 7, 4]\n"
     ]
    }
   ],
   "source": [
    "#program to calculate first 120 terms of bracelet given in question. This is to see if the sequence repeats every 60n terms.\n",
    "def generate_sequence(length):\n",
    "    # Initial numbers in the sequence\n",
    "    sequence = [1, 5, 6, 1, 7, 8, 5, 3]\n",
    "\n",
    "    # Generate the sequence\n",
    "    for _ in range(length - len(sequence)):\n",
    "        next_number = (sequence[-1] + sequence[-2]) % 10\n",
    "        sequence.append(next_number)\n",
    "\n",
    "    return sequence\n",
    "\n",
    "# Generate and print the first 100 numbers in the sequence\n",
    "sequence_length = 120\n",
    "\n",
    "result_sequence = generate_sequence(sequence_length)\n",
    "print(result_sequence)\n"
   ]
  },
  {
   "cell_type": "code",
   "execution_count": 12,
   "metadata": {
    "jupyter": {
     "source_hidden": true
    }
   },
   "outputs": [
    {
     "name": "stdout",
     "output_type": "stream",
     "text": [
      "[3, 2, 5, 7, 2, 9, 1, 0, 1, 1, 2, 3, 5, 8, 3, 1, 4, 5, 9, 4, 3, 7, 0, 7, 7, 4, 1, 5, 6, 1, 7, 8, 5, 3, 8, 1, 9, 0, 9, 9, 8, 7, 5, 2, 7, 9, 6, 5, 1, 6, 7, 3, 0, 3, 3, 6, 9, 5, 4, 9, 3, 2]\n"
     ]
    }
   ],
   "source": [
    "#checking if 3,2 creates a loop of 60 terms\n",
    "\n",
    "def chain(x, y):\n",
    "    sequence = [x, y]\n",
    "      #maximum of 80 terms for simplicity\n",
    "    for n in range(80):  \n",
    "        #calculating term by adding previous 2 then doing mod 10\n",
    "        next_number = (sequence[-2] + sequence[-1]) % 10\n",
    "        sequence.append(next_number)  \n",
    "    length = 0\n",
    "    for i in range(2, 80):\n",
    "        if sequence[i:i+2] == [x, y]:\n",
    "            length = i\n",
    "            break\n",
    "    \n",
    "    answer = sequence[:length+2]\n",
    "    \n",
    "    return answer\n",
    "\n",
    "bracelet = chain(3, 2)\n",
    "print(bracelet)"
   ]
  },
  {
   "cell_type": "code",
   "execution_count": 13,
   "metadata": {},
   "outputs": [
    {
     "name": "stdout",
     "output_type": "stream",
     "text": [
      "[9, 8, 7, 5, 2, 7, 9, 6, 5, 1, 6, 7, 3, 0, 3, 3, 6, 9, 5, 4, 9, 3, 2, 5, 7, 2, 9, 1, 0, 1, 1, 2, 3, 5, 8, 3, 1, 4, 5, 9, 4, 3, 7, 0, 7, 7, 4, 1, 5, 6, 1, 7, 8, 5, 3, 8, 1, 9, 0, 9, 9, 8]\n"
     ]
    }
   ],
   "source": [
    "#checking if 9,8 creates a loop of 60 terms\n",
    "\n",
    "def chain(x, y):\n",
    "    sequence = [x, y]\n",
    "      #maximum of 80 terms for simplicity\n",
    "    for n in range(80):  \n",
    "        #calculating term by adding previous 2 then doing mod 10\n",
    "        next_number = (sequence[-2] + sequence[-1]) % 10\n",
    "        sequence.append(next_number)  \n",
    "    length = 0\n",
    "    for i in range(2, 80):\n",
    "        if sequence[i:i+2] == [x, y]:\n",
    "            length = i\n",
    "            break\n",
    "    \n",
    "    answer = sequence[:length+2]\n",
    "    \n",
    "    return answer\n",
    "\n",
    "bracelet = chain(9, 8)\n",
    "print(bracelet)"
   ]
  },
  {
   "cell_type": "code",
   "execution_count": 14,
   "metadata": {},
   "outputs": [
    {
     "name": "stdout",
     "output_type": "stream",
     "text": [
      "[2, 4, 6, 0, 6, 6, 2, 8, 0, 8, 8, 6, 4, 0, 4, 4, 8, 2, 0, 2, 2, 4]\n"
     ]
    }
   ],
   "source": [
    "#checking if 2,4 creates a loop of a factor of 60 terms\n",
    "\n",
    "def chain(x, y):\n",
    "    sequence = [x, y]\n",
    "      #maximum of 80 terms for simplicity\n",
    "    for n in range(80):  \n",
    "        #calculating term by adding previous 2 then doing mod 10\n",
    "        next_number = (sequence[-2] + sequence[-1]) % 10\n",
    "        sequence.append(next_number)  \n",
    "    length = 0\n",
    "    for i in range(2, 80):\n",
    "        if sequence[i:i+2] == [x, y]:\n",
    "            length = i\n",
    "            break\n",
    "    \n",
    "    answer = sequence[:length+2]\n",
    "    \n",
    "    return answer\n",
    "\n",
    "bracelet = chain(2, 4)\n",
    "print(bracelet)"
   ]
  },
  {
   "cell_type": "code",
   "execution_count": 15,
   "metadata": {},
   "outputs": [
    {
     "name": "stdout",
     "output_type": "stream",
     "text": [
      "[2, 2, 4, 6, 0, 6, 6, 2, 8, 0, 8, 8, 6, 4, 0, 4, 4, 8, 2, 0, 2, 2, 4, 6, 0, 6, 6, 2, 8, 0]\n"
     ]
    }
   ],
   "source": [
    "\n",
    "\n",
    "def generate_sequence(length):\n",
    "    # Initial numbers in the sequence\n",
    "    sequence = [2,2]\n",
    "\n",
    "    # Generate the sequence\n",
    "    for _ in range(length - len(sequence)):\n",
    "        next_number = (sequence[-1] + sequence[-2]) % 10\n",
    "        sequence.append(next_number)\n",
    "\n",
    "    return sequence\n",
    "\n",
    "\n",
    "sequence_length = 30\n",
    "result_sequence = generate_sequence(sequence_length)\n",
    "print(result_sequence)\n"
   ]
  },
  {
   "cell_type": "code",
   "execution_count": 16,
   "metadata": {},
   "outputs": [
    {
     "name": "stdout",
     "output_type": "stream",
     "text": [
      "[2, 4, 6, 0, 6, 6, 2, 8, 0, 8, 8, 6, 4, 0, 4, 4, 8, 2, 0, 2, 2, 4, 6, 0, 6, 6, 2, 8, 0, 8, 8, 6, 4, 0, 4, 4, 8, 2, 0, 2, 2, 4, 6, 0, 6, 6, 2, 8, 0, 8, 8, 6, 4, 0, 4, 4, 8, 2, 0, 2, 2, 4]\n",
      "[4, 6, 0, 6, 6, 2, 8, 0, 8, 8, 6, 4, 0, 4, 4, 8, 2, 0, 2, 2, 4, 6, 0, 6, 6, 2, 8, 0, 8, 8, 6, 4, 0, 4, 4, 8, 2, 0, 2, 2, 4, 6, 0, 6, 6, 2, 8, 0, 8, 8, 6, 4, 0, 4, 4, 8, 2, 0, 2, 2, 4, 6]\n"
     ]
    }
   ],
   "source": [
    "#comparing if 2,4 matches 4,6\n",
    "\n",
    "def generate_sequence(length):\n",
    "    # Initial numbers in the sequence\n",
    "    sequence = [2,4]\n",
    "\n",
    "    # Generate the sequence\n",
    "    for _ in range(length - len(sequence)):\n",
    "        next_number = (sequence[-1] + sequence[-2]) % 10\n",
    "        sequence.append(next_number)\n",
    "\n",
    "    return sequence\n",
    "\n",
    "# Generate and print the first 100 numbers in the sequence\n",
    "sequence_length = 62\n",
    "\n",
    "result_sequence = generate_sequence(sequence_length)\n",
    "print(result_sequence)\n",
    "\n",
    "def generate_sequence(length):\n",
    "    # Initial numbers in the sequence\n",
    "    sequence2 = [4,6]\n",
    "\n",
    "    # Generate the sequence\n",
    "    for _ in range(length - len(sequence2)):\n",
    "        next_number = (sequence2[-1] + sequence2[-2]) % 10\n",
    "        sequence2.append(next_number)\n",
    "\n",
    "    return sequence2\n",
    "\n",
    "# Generate and print the first 100 numbers in the sequence\n",
    "sequence2_length = 62\n",
    "\n",
    "result_sequence2 = generate_sequence(sequence2_length)\n",
    "print(result_sequence2)"
   ]
  },
  {
   "cell_type": "code",
   "execution_count": 17,
   "metadata": {},
   "outputs": [
    {
     "name": "stdout",
     "output_type": "stream",
     "text": [
      "[(4, 0), (4, 9), (3, 7), (5, 4), (4, 6), (5, 1), (8, 0), (9, 2), (8, 9), (9, 8), (0, 5), (2, 2), (8, 6), (1, 0), (1, 9), (2, 8), (7, 4), (6, 2), (7, 1), (6, 8), (4, 2), (3, 0), (3, 9), (5, 6), (4, 8), (3, 6), (5, 3), (8, 2), (9, 1), (0, 7), (2, 4), (8, 8), (1, 2), (0, 4), (2, 1), (1, 8), (6, 4), (7, 3), (3, 2), (4, 1), (3, 8), (5, 5), (8, 4), (9, 3), (8, 1), (0, 9), (1, 4), (0, 6), (2, 3), (6, 6), (7, 5), (6, 3), (3, 4), (4, 3), (3, 1), (5, 7), (9, 5), (0, 2), (8, 3), (1, 6), (0, 8), (2, 5), (1, 3), (7, 7), (6, 5), (4, 5), (3, 3), (5, 0), (5, 9), (9, 7), (8, 5), (9, 4), (0, 1), (2, 7), (1, 5), (6, 1), (7, 0), (7, 9), (6, 7), (7, 6), (4, 7), (3, 5), (5, 2), (4, 4), (9, 0), (9, 9), (5, 8), (8, 7), (1, 1), (0, 3), (2, 0), (9, 6), (2, 9), (1, 7), (2, 6), (7, 2), (6, 0), (6, 9), (7, 8)]\n",
      "[(4, 9), (3, 7), (5, 4), (5, 1), (9, 2), (8, 9), (9, 8), (0, 5), (1, 0), (1, 9), (7, 4), (7, 1), (6, 8), (4, 2), (3, 0), (3, 9), (5, 6), (3, 6), (5, 3), (9, 1), (0, 7), (1, 2), (2, 1), (1, 8), (7, 3), (3, 2), (4, 1), (3, 8), (5, 5), (8, 4), (9, 3), (8, 1), (0, 9), (1, 4), (2, 3), (7, 5), (6, 3), (3, 4), (4, 3), (3, 1), (5, 7), (9, 5), (8, 3), (1, 6), (2, 5), (1, 3), (7, 7), (6, 5), (4, 5), (3, 3), (5, 0), (5, 9), (9, 7), (8, 5), (9, 4), (0, 1), (2, 7), (1, 5), (6, 1), (7, 0), (7, 9), (6, 7), (7, 6), (4, 7), (3, 5), (5, 2), (9, 0), (9, 9), (5, 8), (8, 7), (1, 1), (0, 3), (9, 6), (2, 9), (1, 7), (2, 6), (7, 2), (6, 9), (7, 8)]\n",
      "[(3, 4), (9, 2), (8, 9), (0, 5), (1, 3), (7, 1), (6, 8), (4, 2), (5, 0), (3, 9), (9, 7), (2, 1), (1, 8), (7, 6), (4, 7), (5, 5), (8, 4), (2, 6), (6, 3)]\n",
      "[(5, 5), (8, 4), (6, 8), (4, 2), (5, 0), (2, 6), (0, 5)]\n",
      "[(6, 8), (8, 4), (4, 2), (2, 6)]\n",
      "[]\n",
      "Total count of unique bracelets is:  6\n"
     ]
    }
   ],
   "source": [
    "#import numpy\n",
    "import numpy as np\n",
    "\n",
    "#calculate 100 possible starters  \n",
    "\n",
    "possible_starters = []\n",
    "for i in range(10):\n",
    "    for j in range(10):\n",
    "        possible_starters.append((i,j))\n",
    "        \n",
    "\n",
    "#define a loop for the different chains\n",
    "\n",
    "def loops(x, y):\n",
    "    bracelet = chain(x, y)\n",
    "    repeat = []\n",
    "    for n in range(10):\n",
    "        for m in range(10):\n",
    "            for x in range(len(bracelet)):\n",
    "                if n == bracelet[x-1] and m == bracelet[x]:\n",
    "                    repeat.append((n, m))\n",
    "    return(repeat)\n",
    "\n",
    "\n",
    "chains = possible_starters\n",
    "for i in range(10):\n",
    "    if chains == []:\n",
    "        counter = i\n",
    "        break\n",
    "    chains = list(set(chains) - set(loops(chains[0][0],chains[0][1])))\n",
    "    print(chains)\n",
    "    \n",
    "    #tell us the number of unique sequences\n",
    "print (\"Total count of unique bracelets is: \",counter)\n"
   ]
  },
  {
   "cell_type": "code",
   "execution_count": null,
   "metadata": {},
   "outputs": [],
   "source": []
  }
 ],
 "metadata": {
  "kernelspec": {
   "display_name": "Python 3 (ipykernel)",
   "language": "python",
   "name": "python3"
  },
  "language_info": {
   "codemirror_mode": {
    "name": "ipython",
    "version": 3
   },
   "file_extension": ".py",
   "mimetype": "text/x-python",
   "name": "python",
   "nbconvert_exporter": "python",
   "pygments_lexer": "ipython3",
   "version": "3.9.7"
  }
 },
 "nbformat": 4,
 "nbformat_minor": 4
}
